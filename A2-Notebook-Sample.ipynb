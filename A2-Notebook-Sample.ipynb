{
 "cells": [
  {
   "cell_type": "code",
   "execution_count": 1,
   "id": "06797264",
   "metadata": {},
   "outputs": [],
   "source": [
    "# set up the notebook\n",
    "\n",
    "%load_ext autoreload\n",
    "%autoreload 2\n",
    "\n",
    "import sys\n",
    "import os\n",
    "import logging\n",
    "logging.basicConfig(level=logging.ERROR)"
   ]
  },
  {
   "cell_type": "markdown",
   "id": "1d85109c",
   "metadata": {},
   "source": [
    "# Preparation\n",
    "\n",
    "This part will help you get access to OpenAI API and run your first completion.\n",
    "- For more information about model size and pricing, see [this page](https://openai.com/api/pricing/).\n",
    "- For a detailed API walkthrough (with examples), see [this documentation page](https://beta.openai.com/docs/api-reference/completions)."
   ]
  },
  {
   "cell_type": "code",
   "execution_count": 2,
   "id": "d44e2362",
   "metadata": {},
   "outputs": [
    {
     "data": {
      "text/plain": [
       "<OpenAIObject text_completion id=cmpl-6VDkMsaHlgFv5gkxufRa1nQt3O8uQ at 0x7fc750812590> JSON: {\n",
       "  \"choices\": [\n",
       "    {\n",
       "      \"finish_reason\": \"length\",\n",
       "      \"index\": 0,\n",
       "      \"logprobs\": null,\n",
       "      \"text\": \" of your ability to read the signs\"\n",
       "    }\n",
       "  ],\n",
       "  \"created\": 1672899030,\n",
       "  \"id\": \"cmpl-6VDkMsaHlgFv5gkxufRa1nQt3O8uQ\",\n",
       "  \"model\": \"ada\",\n",
       "  \"object\": \"text_completion\",\n",
       "  \"usage\": {\n",
       "    \"completion_tokens\": 7,\n",
       "    \"prompt_tokens\": 5,\n",
       "    \"total_tokens\": 12\n",
       "  }\n",
       "}"
      ]
     },
     "execution_count": 2,
     "metadata": {},
     "output_type": "execute_result"
    }
   ],
   "source": [
    "# get openAI access and see its model list\n",
    "\n",
    "import openai\n",
    "import json\n",
    "\n",
    "with open(\"./credential.json\", \"r\") as f:\n",
    "    credential = json.load(f)[\"openai\"]\n",
    "openai.api_key = credential\n",
    "\n",
    "# Test to see if you've got the access successfuly using the cheapest model.\n",
    "completion = openai.Completion.create(\n",
    "  model=\"ada\",\n",
    "  prompt=\"Say this is a test\",\n",
    "  max_tokens=7,\n",
    "  temperature=0\n",
    ")\n",
    "completion"
   ]
  },
  {
   "cell_type": "code",
   "execution_count": 3,
   "id": "4291a43b",
   "metadata": {},
   "outputs": [
    {
     "data": {
      "text/plain": [
       "' of your ability to read the signs'"
      ]
     },
     "execution_count": 3,
     "metadata": {},
     "output_type": "execute_result"
    }
   ],
   "source": [
    "# If you got the completion successfully, you should be able to access the generated text through this line:\n",
    "completion[\"choices\"][0][\"text\"]"
   ]
  },
  {
   "cell_type": "markdown",
   "id": "04851c0c",
   "metadata": {},
   "source": [
    "# Writeup 0: Task and Strategy Description\n",
    "\n",
    "**EDIT THIS PART TO PROVIDE AN OVERVIEW OF YOUR ATTEMPTS**\n",
    "\n",
    "- **Task Description**: Create three metaphors for a given concept, so that we can explain the different aspects of crowdsourcing in a poetic way. A metaphor may look like:\n",
    "\n",
    "    > In crowdsourcing, people are like bees; they work together to make honey.\n",
    "\n",
    "    With the concept being “crowdsourcing”, the simile being “bees”, and the similar aspect being “work together.”\n",
    "    \n",
    "    This task is from paper [AI Chains: Transparent and Controllable Human-AI Interaction\n",
    "by Chaining Large Language Model Prompts](https://arxiv.org/pdf/2110.01691.pdf), Case 0 in B.3.\n",
    "- **Example Input/output**: Write >=3 input-output pairs of your task. You should test your strategy on all the three examples.\n",
    "    ```\n",
    "    Input: Crowdsourcing\n",
    "    Output: \n",
    "    1. crowdsourcing is like a team sport in that it brings people to achieve one goal.\n",
    "    2. Crowdsourcing is like a vast, open-source library, with everyone contributing to the shelves of knowledge.\n",
    "    3. Crowdsourcing was like a quilt, with each individual contributing a patch of fabric to create a larger piece of art.\n",
    "\n",
    "    Input: Gratitude\n",
    "    Output:\n",
    "    1. gratitude is like a stream in that it’s a force that can carry you along.\n",
    "    2. Gratitude is like a generous river that overflows with blessings.\n",
    "    3. Gratitude is a feather in the cap of humility.\n",
    "\n",
    "    Input: loss\n",
    "    Output:\n",
    "    1. loss is like a wing in that it’s something you never wanted to lose, and it can take you away.\n",
    "    2. The loss was like a dark cloud of disappointment hovering over me.\n",
    "    3. Loss is a heavy burden, weighing down the heart like a funeral shroud.\n",
    "    ```\n",
    "- **Workflow prompting strategy**: The pipeline helps further specify an abstract query into more specific aspects. Given an input concept, we will\n",
    "    - First find three unique traits of the concept\n",
    "    - Ask the model to write a different metaphor for each trait.\n",
    "    \n",
    "    For example:\n",
    "    ```\n",
    "    INPUT: gratitude\n",
    "    Output: \n",
    "    TRAIT => OUTPUT: \n",
    "    Appreciation => Gratitude is a warm embrace, showing appreciation for all that is given.\n",
    "    Generosity => Gratitude is like a generous river that overflows with blessings.\n",
    "    ```\n",
    "- **Crowdsourcing paper**: [Towards Large-Scale Collaborative Planning: Answering High-Level Search Queries Using Human Computation](https://ojs.aaai.org/index.php/AAAI/article/view/8092) -- where the pipelining strategy comes from."
   ]
  },
  {
   "cell_type": "markdown",
   "id": "2fe87f82",
   "metadata": {},
   "source": [
    "## Coding: Use this part to do your prompting.\n",
    "\n",
    "Tips for prompting:\n",
    "- [OpenAI playground](https://beta.openai.com/playground) offers more interactive prompting experiments.\n",
    "- Read the [API documentation](https://beta.openai.com/docs/api-reference/completions?lang=python) to use the right parameters (e.g., `temperature`, `max_length`).\n",
    "- Read the [tutorial doc](https://beta.openai.com/docs/introduction) to get a general sense of GPT-3.\n",
    "- Read [OpenAI examples](https://beta.openai.com/examples) to get a sense of what GPT-3 can do.\n",
    "\n",
    "Tips for saving credits:\n",
    "\n",
    "- You can use a cheaper model for tuning your prompts (see [pricing](https://openai.com/api/pricing/)) before generating the final responses using the most capable model `text-davinci-003`\n",
    "- [AI21](https://www.ai21.com/studio) provides a model similar to GPT-3 / API service similar to OpenAI, and it involves more free credits for you to try. If you choose to use this, remember to also get its API key and set up the credential."
   ]
  },
  {
   "cell_type": "markdown",
   "id": "1be546aa",
   "metadata": {},
   "source": [
    "## Baseline prompting\n",
    "\n",
    "Use this section to do a one-step prompting for your selected task."
   ]
  },
  {
   "cell_type": "code",
   "execution_count": 32,
   "id": "d59d2e7c",
   "metadata": {},
   "outputs": [
    {
     "name": "stdout",
     "output_type": "stream",
     "text": [
      "INPUT: crowdsourcing\n",
      "OUTPUT:  Crowdsourcing is like a tapestry, with many individual threads weaving together to create a beautiful whole. \n",
      "2. Crowdsourcing is like a relay race, with each person taking the baton and running just a short distance before handing it off to another. \n",
      "3. Crowdsourcing is like a jigsaw puzzle, with many people contributing pieces to the final picture.\n",
      "\n",
      "INPUT: gratitude\n",
      "OUTPUT:  Gratitude is a garden that blossoms with love.\n",
      "2. Gratitude is a river that carries abundance.\n",
      "3. Gratitude is a beacon of light that guides the way.\n",
      "\n",
      "INPUT: loss\n",
      "OUTPUT:  Time is a thief that steals away everything precious. \n",
      "2. Life is a game of chess, and each move is a loss. \n",
      "3. Life is a rollercoaster ride, with moments of joy and sorrow.\n",
      "\n"
     ]
    }
   ],
   "source": [
    "# Write your code here.\n",
    "\n",
    "def baseline_prompt(concept, model=\"text-davinci-003\", max_tokens=100, temperature=0.7, top_p=1):\n",
    "    prompt = f\"\"\"The following is a list of three metaphors on '{concept}'.\n",
    "Concept: {concept}\n",
    "Metaphors: 1.\"\"\"\n",
    "    completion = openai.Completion.create(\n",
    "        model=model,\n",
    "        prompt=prompt,\n",
    "        max_tokens=max_tokens,\n",
    "        temperature=temperature,\n",
    "        top_p=top_p\n",
    "    )\n",
    "    output = completion[\"choices\"][0][\"text\"].split(\"4.\")[0]\n",
    "    print(f\"INPUT: {concept}\")\n",
    "    print(f\"OUTPUT: {output}\")\n",
    "    print()\n",
    "    \n",
    "baseline_prompt(\"crowdsourcing\")\n",
    "\n",
    "baseline_prompt(\"gratitude\")\n",
    "\n",
    "baseline_prompt(\"loss\")"
   ]
  },
  {
   "cell_type": "markdown",
   "id": "19f138dc",
   "metadata": {},
   "source": [
    "## Crowdsourcing-Pipeline-inspired prompting\n",
    "\n",
    "Use this section to your selected pipeline prompting for your task."
   ]
  },
  {
   "cell_type": "code",
   "execution_count": 31,
   "id": "f60a0f3a",
   "metadata": {},
   "outputs": [
    {
     "data": {
      "text/plain": [
       "['', ' hi, ', '']"
      ]
     },
     "execution_count": 31,
     "metadata": {},
     "output_type": "execute_result"
    }
   ],
   "source": [
    "import re\n",
    "re.split(r'\\d+\\.', \"1. hi, 2.\")"
   ]
  },
  {
   "cell_type": "code",
   "execution_count": 46,
   "id": "3665df0e",
   "metadata": {},
   "outputs": [
    {
     "name": "stdout",
     "output_type": "stream",
     "text": [
      "INPUT: crowdsourcing\n",
      "TRAITS: \n",
      "['Collaborative problem-solving;', 'Open-source resource sharing;', 'Online collaboration.']\n",
      "OUTPUT: \n",
      "Crowdsourcing is like a collective brain, offering an array of diverse perspectives to solve a single problem.\n",
      "Crowdsourcing is like a vast, open-source library, with everyone contributing to the shelves of knowledge.\n",
      "Crowdsourcing was like a quilt, with each individual contributing a patch of fabric to create a larger piece of art.\n",
      "\n",
      "INPUT: gratitude\n",
      "TRAITS: \n",
      "['Appreciation', 'Generosity', 'Humility']\n",
      "OUTPUT: \n",
      "Gratitude is a warm embrace, showing appreciation for all that is given.\n",
      "Gratitude is like a generous river that overflows with blessings.\n",
      "Gratitude is a feather in the cap of humility.\n",
      "\n",
      "INPUT: loss\n",
      "TRAITS: \n",
      "['Bereavement', 'Disappointment', 'Regret']\n",
      "OUTPUT: \n",
      "Loss is a heavy burden, weighing down the heart like a funeral shroud.\n",
      "The loss was like a dark cloud of disappointment hovering over me.\n",
      "Loss is like a heavy weight on my chest, crushing me with regret.\n",
      "\n"
     ]
    }
   ],
   "source": [
    "# Write your code here.\n",
    "from functools import partial\n",
    "import re\n",
    "\n",
    "def pipeline_prompt(concept, model=\"text-davinci-003\", max_tokens=100, temperature=0.7, top_p=1):\n",
    "    prompt_concept_to_trait = f\"\"\"The following three phrases describes three different and unique traits of the given concept.\n",
    "Concept: {concept}\n",
    "Unique traits: 1.\"\"\"\n",
    "    completion = openai.Completion.create(\n",
    "        model=model,\n",
    "        prompt=prompt_concept_to_trait,\n",
    "        max_tokens=max_tokens,\n",
    "        temperature=temperature,\n",
    "        top_p=top_p\n",
    "    )\n",
    "    traits = completion[\"choices\"][0][\"text\"].split(\"4.\")[0]\n",
    "    traits = [t.strip() for t in re.split(r'\\d+\\.', traits) if t.strip()]\n",
    "    \n",
    "    metaphors = []\n",
    "    for trait in traits:\n",
    "        prompt_trait_to_metaphor = f\"\"\"Given the concept and its unique trait, write a metaphor that conveys the corresponding trait.\n",
    "Concept: {concept}\n",
    "trait: {trait}\n",
    "metaphor:\"\"\"\n",
    "        completion = openai.Completion.create(\n",
    "            model=model,\n",
    "            prompt=prompt_trait_to_metaphor,\n",
    "            max_tokens=max_tokens,\n",
    "            temperature=temperature,\n",
    "            top_p=top_p\n",
    "        )\n",
    "        metaphors.append(completion[\"choices\"][0][\"text\"].strip())\n",
    "    metaphor = '\\n'.join(metaphors)\n",
    "    print(f\"INPUT: {concept}\")\n",
    "    print(f\"TRAITS: \\n{traits}\")\n",
    "    print(f\"OUTPUT: \\n{metaphor}\")\n",
    "    print()\n",
    "\n",
    "pipeline_prompt(\"crowdsourcing\")\n",
    "\n",
    "pipeline_prompt(\"gratitude\")\n",
    "\n",
    "pipeline_prompt(\"loss\")\n",
    "\n"
   ]
  },
  {
   "cell_type": "markdown",
   "id": "6cc1a375",
   "metadata": {},
   "source": [
    "# Writeup 1: Report & Reflection\n",
    "\n",
    "Fill in the following three sections by reflecting on your results."
   ]
  },
  {
   "cell_type": "markdown",
   "id": "cbeb3b42",
   "metadata": {},
   "source": [
    "## Report the result\n",
    "\n",
    "(For all the inputs you tried, summarized the input, baseline output, pipeline output, which output you like and why.)\n",
    "\n",
    "- **Input**:\n",
    "- **Baseline output**:\n",
    "- **Pipeline output**:\n",
    "- **Which output you like and why**:\n",
    "\n",
    "\n",
    "\n",
    "- **Input**:\n",
    "- **Baseline output**:\n",
    "- **Pipeline output**:\n",
    "- **Which output you like and why**:\n",
    "\n",
    "..."
   ]
  },
  {
   "cell_type": "markdown",
   "id": "c44f2ed6",
   "metadata": {},
   "source": [
    "## Reflect on prompting effectiveness\n",
    "\n",
    "Write some paragraphs to describe: Did you find the pipeline prompting workflow effective? Why or Why not?"
   ]
  },
  {
   "cell_type": "markdown",
   "id": "27c87363",
   "metadata": {},
   "source": [
    "## Envision possible improvements\n",
    "\n",
    "Write some paragraphs to describe: What are some possible ways to further improve the pipeline or prompt design?"
   ]
  },
  {
   "cell_type": "code",
   "execution_count": null,
   "id": "0dd2e13a",
   "metadata": {},
   "outputs": [],
   "source": []
  }
 ],
 "metadata": {
  "kernelspec": {
   "display_name": "Python 3 (ipykernel)",
   "language": "python",
   "name": "python3"
  },
  "language_info": {
   "codemirror_mode": {
    "name": "ipython",
    "version": 3
   },
   "file_extension": ".py",
   "mimetype": "text/x-python",
   "name": "python",
   "nbconvert_exporter": "python",
   "pygments_lexer": "ipython3",
   "version": "3.7.15"
  }
 },
 "nbformat": 4,
 "nbformat_minor": 5
}
